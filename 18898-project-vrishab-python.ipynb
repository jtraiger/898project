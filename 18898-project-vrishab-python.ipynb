{
 "cells": [
  {
   "cell_type": "code",
   "execution_count": 1,
   "metadata": {},
   "outputs": [],
   "source": [
    "import pandas as pd\n",
    "import matplotlib.pyplot as plt\n",
    "import numpy as np\n",
    "import sklearn\n",
    "import scipy\n",
    "from sklearn.metrics.pairwise import euclidean_distances\n",
    "from scipy.spatial import distance\n",
    "import networkx as nx\n",
    "import torch\n",
    "import torch_geometric\n",
    "from torch_geometric.data import Data\n",
    "import torch\n",
    "import torch.nn.functional as F\n",
    "from torch_geometric.nn import GCNConv"
   ]
  },
  {
   "cell_type": "code",
   "execution_count": 2,
   "metadata": {},
   "outputs": [],
   "source": [
    "# defines \n",
    "HALF_SECOND = 0.5\n",
    "NUM_CLASSES = 2\n",
    "NUM_FEATURES = 31\n",
    "EPOCH_NUM = 200\n",
    "N = 51\n",
    "P = 0.15"
   ]
  },
  {
   "cell_type": "code",
   "execution_count": 3,
   "metadata": {},
   "outputs": [],
   "source": [
    "\"\"\"\n",
    "@brief\n",
    "@param\n",
    "\"\"\"\n",
    "def plot_touching_subplots(df1, df2, suptitle=\"\", p1title=\"\", p2title=\"\"):\n",
    "    # big figure with touching subplots\n",
    "    fig, ax = plt.subplots(1,2, figsize=(15,10), sharey=True, gridspec_kw = {'wspace':0})\n",
    "\n",
    "    # plot the data for each subset\n",
    "    ax[0].plot(df1, '.', color='black')\n",
    "    ax[1].plot(df2,  '.', color='black')\n",
    "\n",
    "    # set limits\n",
    "    ax[0].set_ylim(0,5.5)\n",
    "    ax[1].set_ylim(0,5.5)\n",
    "\n",
    "    # modify ticks\n",
    "    ax[0].tick_params(axis='x', which='major', labelsize=10, rotation=90)\n",
    "    ax[0].tick_params(axis='y', which='major', labelsize=13)\n",
    "    ax[1].tick_params(axis='x', which='major', labelsize=10, rotation=90)\n",
    "\n",
    "    # set labels\n",
    "    ax[0].set_xlabel(\"Subject\", fontsize=15)\n",
    "    ax[0].set_ylabel(\"Total Typing Time in Seconds\", fontsize=15)\n",
    "    ax[1].set_xlabel(\"Subject\", fontsize=15)\n",
    "\n",
    "    # set titles\n",
    "    ax[0].set_title(p1title, fontsize=15)\n",
    "    ax[1].set_title(p2title, fontsize=15)\n",
    "    plt.suptitle(suptitle, fontsize=20, y=0.95)\n",
    "    \n",
    "    plt.show()\n",
    "    \n",
    "    \n",
    "\"\"\"\n",
    "@brief\n",
    "\"\"\"\n",
    "# class Net(torch.nn.Module):\n",
    "#     def __init__(self):\n",
    "#         super(Net, self).__init__()\n",
    "#         self.conv1 = GCNConv(NUM_FEATURES, 100)\n",
    "#         self.conv2 = GCNConv(100, 200)\n",
    "#         self.conv3 = GCNConv(200, 400)\n",
    "#         self.conv4 = GCNConv(400, NUM_CLASSES)\n",
    "\n",
    "#     def forward(self, data):\n",
    "#         x, edge_index = data.x.float(), data.edge_index\n",
    "#         x = self.conv1(x, edge_index)\n",
    "#         x = F.leaky_relu(x)\n",
    "#         x = self.conv2(x, edge_index)\n",
    "#         x = F.leaky_relu(x)\n",
    "#         x = self.conv3(x, edge_index)\n",
    "#         x = F.leaky_relu(x)\n",
    "#         x = F.dropout(x, training=self.training)\n",
    "#         x = self.conv4(x, edge_index)\n",
    "#         return F.log_softmax(x, dim=1)\n",
    "\n",
    "# smaller network\n",
    "class Net(torch.nn.Module):\n",
    "    def __init__(self):\n",
    "        super(Net, self).__init__()\n",
    "        self.conv1 = GCNConv(NUM_FEATURES, 64)\n",
    "        self.conv2 = GCNConv(64, NUM_CLASSES)\n",
    "\n",
    "    def forward(self, data):\n",
    "        x, edge_index = data.x.float(), data.edge_index\n",
    "        x = self.conv1(x, edge_index)\n",
    "        x = F.leaky_relu(x)\n",
    "        x = F.dropout(x, training=self.training)\n",
    "        x = self.conv2(x, edge_index)\n",
    "        return F.log_softmax(x, dim=1)\n",
    "    \n",
    "    \n",
    "\"\"\"\n",
    "@brief\n",
    "@param\n",
    "\"\"\"\n",
    "def get_train_test(df, possubs, negsubs):\n",
    "    train = df.groupby('subject').apply(lambda x: x).sample(frac=0.7)\n",
    "    test = df[~df.index.isin(train.index)]\n",
    "    assert(len(test) + len(train) == len(df))\n",
    "    train_labels = train.subject.isin(subs)\n",
    "    test_labels = test.subject.isin(subs)\n",
    "    train = train.filter(regex='H|UD|DD')\n",
    "    test = test.filter(regex='H|UD|DD')\n",
    "    return train.values, train_labels.values.astype(int), test.values, test_labels.values.astype(int)    \n",
    "    \n",
    "\"\"\"\n",
    "@brief\n",
    "@param\n",
    "\"\"\"\n",
    "def graph_from_adj(adjacency_matrix):\n",
    "    return nx.from_numpy_matrix(np.matrix(adjacency_matrix), create_using=nx.DiGraph)\n",
    "\n",
    "\n",
    "\"\"\"\n",
    "@brief\n",
    "@param\n",
    "\"\"\"\n",
    "def plot_graph_from_adj(adjacency_matrix):\n",
    "    G = graph_from_adj(adjacency_matrix)\n",
    "    # k controls the distance between the nodes and varies between 0 and 1\n",
    "    # iterations is the number of times simulated annealing is run\n",
    "    # default k =0.1 and iterations=50\n",
    "    layout = nx.spring_layout(G,k=0.1,iterations=100)\n",
    "    nx.draw(G, layout, with_labels=False)\n",
    "  \n",
    "\"\"\"\n",
    "@brief\n",
    "@param\n",
    "\"\"\"\n",
    "def load_train_data(G, train, train_labels):\n",
    "    data = torch_geometric.utils.convert.from_networkx(G)\n",
    "    # load train data into the dataset for both graph models\n",
    "    data.x = torch.from_numpy(train)\n",
    "    data.y = torch.from_numpy(train_labels)\n",
    "    return data\n",
    "\n",
    "\"\"\"\n",
    "@brief\n",
    "@param\n",
    "\"\"\"\n",
    "def load_test_data(G, test, test_labels):\n",
    "    data = torch_geometric.utils.convert.from_networkx(G)\n",
    "    # load train data into the dataset for both graph models\n",
    "    data.x = torch.from_numpy(test)\n",
    "    data.y = torch.from_numpy(test_labels)\n",
    "    return data\n",
    "\n",
    "\"\"\"\n",
    "@brief\n",
    "@param\n",
    "\"\"\"\n",
    "def plot_loss(losses):\n",
    "    plt.figure(figsize=(15,10))    \n",
    "    plt.plot(range(len(losses)), losses, color=\"#ff7f0e\") # default orange\n",
    "    plt.plot(range(len(losses)), losses, '.', color=\"#1f77b4\") # default blue\n",
    "    plt.xlabel(\"Epoch\", fontsize=15)\n",
    "    plt.ylabel(\"Loss\", fontsize=15)\n",
    "    plt.xticks(fontsize=12)\n",
    "    plt.yticks(fontsize=12)\n",
    "    plt.ylim(0,1)\n",
    "    plt.show()\n",
    "\n",
    "def train_model(data):\n",
    "    device = torch.device('cuda' if torch.cuda.is_available() else 'cpu')\n",
    "    model = Net().to(device)\n",
    "    optimizer = torch.optim.Adam(model.parameters(), lr=0.01, weight_decay=5e-4)\n",
    "\n",
    "    model.train()\n",
    "    losses = []\n",
    "    for epoch in range(EPOCH_NUM):\n",
    "        optimizer.zero_grad()\n",
    "        model = model.float()\n",
    "        out = model(data)\n",
    "        loss = F.nll_loss(out, data.y)\n",
    "        loss.backward()\n",
    "        losses.append(loss)\n",
    "        optimizer.step()\n",
    "    \n",
    "    return model, losses\n",
    "\n",
    "def test_model(model, data):\n",
    "    model.eval()\n",
    "    _, pred = model(data).max(dim=1)\n",
    "    correct = float(pred.eq(data.y).sum().item())\n",
    "    acc = correct / len(data.y)\n",
    "    return acc"
   ]
  },
  {
   "cell_type": "code",
   "execution_count": 4,
   "metadata": {
    "scrolled": false
   },
   "outputs": [
    {
     "data": {
      "text/html": [
       "<div>\n",
       "<style scoped>\n",
       "    .dataframe tbody tr th:only-of-type {\n",
       "        vertical-align: middle;\n",
       "    }\n",
       "\n",
       "    .dataframe tbody tr th {\n",
       "        vertical-align: top;\n",
       "    }\n",
       "\n",
       "    .dataframe thead th {\n",
       "        text-align: right;\n",
       "    }\n",
       "</style>\n",
       "<table border=\"1\" class=\"dataframe\">\n",
       "  <thead>\n",
       "    <tr style=\"text-align: right;\">\n",
       "      <th></th>\n",
       "      <th>subject</th>\n",
       "      <th>sessionIndex</th>\n",
       "      <th>rep</th>\n",
       "      <th>H.period</th>\n",
       "      <th>DD.period.t</th>\n",
       "      <th>UD.period.t</th>\n",
       "      <th>H.t</th>\n",
       "      <th>DD.t.i</th>\n",
       "      <th>UD.t.i</th>\n",
       "      <th>H.i</th>\n",
       "      <th>...</th>\n",
       "      <th>H.a</th>\n",
       "      <th>DD.a.n</th>\n",
       "      <th>UD.a.n</th>\n",
       "      <th>H.n</th>\n",
       "      <th>DD.n.l</th>\n",
       "      <th>UD.n.l</th>\n",
       "      <th>H.l</th>\n",
       "      <th>DD.l.Return</th>\n",
       "      <th>UD.l.Return</th>\n",
       "      <th>H.Return</th>\n",
       "    </tr>\n",
       "  </thead>\n",
       "  <tbody>\n",
       "    <tr>\n",
       "      <th>0</th>\n",
       "      <td>s002</td>\n",
       "      <td>1</td>\n",
       "      <td>1</td>\n",
       "      <td>0.1491</td>\n",
       "      <td>0.3979</td>\n",
       "      <td>0.2488</td>\n",
       "      <td>0.1069</td>\n",
       "      <td>0.1674</td>\n",
       "      <td>0.0605</td>\n",
       "      <td>0.1169</td>\n",
       "      <td>...</td>\n",
       "      <td>0.1349</td>\n",
       "      <td>0.1484</td>\n",
       "      <td>0.0135</td>\n",
       "      <td>0.0932</td>\n",
       "      <td>0.3515</td>\n",
       "      <td>0.2583</td>\n",
       "      <td>0.1338</td>\n",
       "      <td>0.3509</td>\n",
       "      <td>0.2171</td>\n",
       "      <td>0.0742</td>\n",
       "    </tr>\n",
       "    <tr>\n",
       "      <th>1</th>\n",
       "      <td>s002</td>\n",
       "      <td>1</td>\n",
       "      <td>2</td>\n",
       "      <td>0.1111</td>\n",
       "      <td>0.3451</td>\n",
       "      <td>0.2340</td>\n",
       "      <td>0.0694</td>\n",
       "      <td>0.1283</td>\n",
       "      <td>0.0589</td>\n",
       "      <td>0.0908</td>\n",
       "      <td>...</td>\n",
       "      <td>0.1412</td>\n",
       "      <td>0.2558</td>\n",
       "      <td>0.1146</td>\n",
       "      <td>0.1146</td>\n",
       "      <td>0.2642</td>\n",
       "      <td>0.1496</td>\n",
       "      <td>0.0839</td>\n",
       "      <td>0.2756</td>\n",
       "      <td>0.1917</td>\n",
       "      <td>0.0747</td>\n",
       "    </tr>\n",
       "    <tr>\n",
       "      <th>2</th>\n",
       "      <td>s002</td>\n",
       "      <td>1</td>\n",
       "      <td>3</td>\n",
       "      <td>0.1328</td>\n",
       "      <td>0.2072</td>\n",
       "      <td>0.0744</td>\n",
       "      <td>0.0731</td>\n",
       "      <td>0.1291</td>\n",
       "      <td>0.0560</td>\n",
       "      <td>0.0821</td>\n",
       "      <td>...</td>\n",
       "      <td>0.1621</td>\n",
       "      <td>0.2332</td>\n",
       "      <td>0.0711</td>\n",
       "      <td>0.1172</td>\n",
       "      <td>0.2705</td>\n",
       "      <td>0.1533</td>\n",
       "      <td>0.1085</td>\n",
       "      <td>0.2847</td>\n",
       "      <td>0.1762</td>\n",
       "      <td>0.0945</td>\n",
       "    </tr>\n",
       "    <tr>\n",
       "      <th>3</th>\n",
       "      <td>s002</td>\n",
       "      <td>1</td>\n",
       "      <td>4</td>\n",
       "      <td>0.1291</td>\n",
       "      <td>0.2515</td>\n",
       "      <td>0.1224</td>\n",
       "      <td>0.1059</td>\n",
       "      <td>0.2495</td>\n",
       "      <td>0.1436</td>\n",
       "      <td>0.1040</td>\n",
       "      <td>...</td>\n",
       "      <td>0.1457</td>\n",
       "      <td>0.1629</td>\n",
       "      <td>0.0172</td>\n",
       "      <td>0.0866</td>\n",
       "      <td>0.2341</td>\n",
       "      <td>0.1475</td>\n",
       "      <td>0.0845</td>\n",
       "      <td>0.3232</td>\n",
       "      <td>0.2387</td>\n",
       "      <td>0.0813</td>\n",
       "    </tr>\n",
       "    <tr>\n",
       "      <th>4</th>\n",
       "      <td>s002</td>\n",
       "      <td>1</td>\n",
       "      <td>5</td>\n",
       "      <td>0.1249</td>\n",
       "      <td>0.2317</td>\n",
       "      <td>0.1068</td>\n",
       "      <td>0.0895</td>\n",
       "      <td>0.1676</td>\n",
       "      <td>0.0781</td>\n",
       "      <td>0.0903</td>\n",
       "      <td>...</td>\n",
       "      <td>0.1312</td>\n",
       "      <td>0.1582</td>\n",
       "      <td>0.0270</td>\n",
       "      <td>0.0884</td>\n",
       "      <td>0.2517</td>\n",
       "      <td>0.1633</td>\n",
       "      <td>0.0903</td>\n",
       "      <td>0.2517</td>\n",
       "      <td>0.1614</td>\n",
       "      <td>0.0818</td>\n",
       "    </tr>\n",
       "  </tbody>\n",
       "</table>\n",
       "<p>5 rows × 34 columns</p>\n",
       "</div>"
      ],
      "text/plain": [
       "  subject  sessionIndex  rep  H.period  DD.period.t  UD.period.t     H.t  \\\n",
       "0    s002             1    1    0.1491       0.3979       0.2488  0.1069   \n",
       "1    s002             1    2    0.1111       0.3451       0.2340  0.0694   \n",
       "2    s002             1    3    0.1328       0.2072       0.0744  0.0731   \n",
       "3    s002             1    4    0.1291       0.2515       0.1224  0.1059   \n",
       "4    s002             1    5    0.1249       0.2317       0.1068  0.0895   \n",
       "\n",
       "   DD.t.i  UD.t.i     H.i    ...        H.a  DD.a.n  UD.a.n     H.n  DD.n.l  \\\n",
       "0  0.1674  0.0605  0.1169    ...     0.1349  0.1484  0.0135  0.0932  0.3515   \n",
       "1  0.1283  0.0589  0.0908    ...     0.1412  0.2558  0.1146  0.1146  0.2642   \n",
       "2  0.1291  0.0560  0.0821    ...     0.1621  0.2332  0.0711  0.1172  0.2705   \n",
       "3  0.2495  0.1436  0.1040    ...     0.1457  0.1629  0.0172  0.0866  0.2341   \n",
       "4  0.1676  0.0781  0.0903    ...     0.1312  0.1582  0.0270  0.0884  0.2517   \n",
       "\n",
       "   UD.n.l     H.l  DD.l.Return  UD.l.Return  H.Return  \n",
       "0  0.2583  0.1338       0.3509       0.2171    0.0742  \n",
       "1  0.1496  0.0839       0.2756       0.1917    0.0747  \n",
       "2  0.1533  0.1085       0.2847       0.1762    0.0945  \n",
       "3  0.1475  0.0845       0.3232       0.2387    0.0813  \n",
       "4  0.1633  0.0903       0.2517       0.1614    0.0818  \n",
       "\n",
       "[5 rows x 34 columns]"
      ]
     },
     "metadata": {},
     "output_type": "display_data"
    },
    {
     "data": {
      "text/html": [
       "<div>\n",
       "<style scoped>\n",
       "    .dataframe tbody tr th:only-of-type {\n",
       "        vertical-align: middle;\n",
       "    }\n",
       "\n",
       "    .dataframe tbody tr th {\n",
       "        vertical-align: top;\n",
       "    }\n",
       "\n",
       "    .dataframe thead th {\n",
       "        text-align: right;\n",
       "    }\n",
       "</style>\n",
       "<table border=\"1\" class=\"dataframe\">\n",
       "  <thead>\n",
       "    <tr style=\"text-align: right;\">\n",
       "      <th></th>\n",
       "      <th>subject</th>\n",
       "      <th>gender</th>\n",
       "      <th>age</th>\n",
       "      <th>race</th>\n",
       "      <th>education</th>\n",
       "      <th>major</th>\n",
       "      <th>native.language</th>\n",
       "      <th>handedness</th>\n",
       "      <th>typingskill</th>\n",
       "    </tr>\n",
       "  </thead>\n",
       "  <tbody>\n",
       "    <tr>\n",
       "      <th>0</th>\n",
       "      <td>s002</td>\n",
       "      <td>Female</td>\n",
       "      <td>18-30</td>\n",
       "      <td>Caucasian</td>\n",
       "      <td>Undergrad</td>\n",
       "      <td>Computer Science</td>\n",
       "      <td>English</td>\n",
       "      <td>Right</td>\n",
       "      <td>Touch</td>\n",
       "    </tr>\n",
       "    <tr>\n",
       "      <th>1</th>\n",
       "      <td>s003</td>\n",
       "      <td>Female</td>\n",
       "      <td>31+</td>\n",
       "      <td>Asian</td>\n",
       "      <td>Ph.D. student</td>\n",
       "      <td>-</td>\n",
       "      <td>Cebuano</td>\n",
       "      <td>Right</td>\n",
       "      <td>Touch</td>\n",
       "    </tr>\n",
       "    <tr>\n",
       "      <th>2</th>\n",
       "      <td>s004</td>\n",
       "      <td>Female</td>\n",
       "      <td>18-30</td>\n",
       "      <td>Caucasian</td>\n",
       "      <td>Ph.D. student</td>\n",
       "      <td>-</td>\n",
       "      <td>English</td>\n",
       "      <td>Right</td>\n",
       "      <td>Other</td>\n",
       "    </tr>\n",
       "    <tr>\n",
       "      <th>3</th>\n",
       "      <td>s005</td>\n",
       "      <td>Female</td>\n",
       "      <td>18-30</td>\n",
       "      <td>African</td>\n",
       "      <td>Ph.D. student</td>\n",
       "      <td>-</td>\n",
       "      <td>Swahili</td>\n",
       "      <td>Right</td>\n",
       "      <td>Other</td>\n",
       "    </tr>\n",
       "    <tr>\n",
       "      <th>4</th>\n",
       "      <td>s007</td>\n",
       "      <td>Male</td>\n",
       "      <td>18-30</td>\n",
       "      <td>Caucasian</td>\n",
       "      <td>Undergrad</td>\n",
       "      <td>Computer Science</td>\n",
       "      <td>English</td>\n",
       "      <td>Right</td>\n",
       "      <td>Touch</td>\n",
       "    </tr>\n",
       "  </tbody>\n",
       "</table>\n",
       "</div>"
      ],
      "text/plain": [
       "  subject  gender    age       race      education             major  \\\n",
       "0    s002  Female  18-30  Caucasian      Undergrad  Computer Science   \n",
       "1    s003  Female    31+      Asian  Ph.D. student                 -   \n",
       "2    s004  Female  18-30  Caucasian  Ph.D. student                 -   \n",
       "3    s005  Female  18-30    African  Ph.D. student                 -   \n",
       "4    s007    Male  18-30  Caucasian      Undergrad  Computer Science   \n",
       "\n",
       "  native.language handedness typingskill  \n",
       "0         English      Right       Touch  \n",
       "1         Cebuano      Right       Touch  \n",
       "2         English      Right       Other  \n",
       "3         Swahili      Right       Other  \n",
       "4         English      Right       Touch  "
      ]
     },
     "execution_count": 4,
     "metadata": {},
     "output_type": "execute_result"
    }
   ],
   "source": [
    "# load the keystroke data\n",
    "df_51 = pd.read_csv(\"DSL-StrongPasswordData.csv\")\n",
    "display(df_51.iloc[:5])\n",
    "\n",
    "# load the demographic data\n",
    "df_dem = pd.read_csv(\"demographics.txt\", sep=\" \")\n",
    "df_dem.iloc[:5]"
   ]
  },
  {
   "cell_type": "code",
   "execution_count": 5,
   "metadata": {},
   "outputs": [
    {
     "data": {
      "text/html": [
       "<div>\n",
       "<style scoped>\n",
       "    .dataframe tbody tr th:only-of-type {\n",
       "        vertical-align: middle;\n",
       "    }\n",
       "\n",
       "    .dataframe tbody tr th {\n",
       "        vertical-align: top;\n",
       "    }\n",
       "\n",
       "    .dataframe thead th {\n",
       "        text-align: right;\n",
       "    }\n",
       "</style>\n",
       "<table border=\"1\" class=\"dataframe\">\n",
       "  <thead>\n",
       "    <tr style=\"text-align: right;\">\n",
       "      <th></th>\n",
       "      <th>average totaltime</th>\n",
       "    </tr>\n",
       "    <tr>\n",
       "      <th>subject</th>\n",
       "      <th></th>\n",
       "    </tr>\n",
       "  </thead>\n",
       "  <tbody>\n",
       "    <tr>\n",
       "      <th>s055</th>\n",
       "      <td>1.477592</td>\n",
       "    </tr>\n",
       "    <tr>\n",
       "      <th>s013</th>\n",
       "      <td>1.693144</td>\n",
       "    </tr>\n",
       "    <tr>\n",
       "      <th>s051</th>\n",
       "      <td>1.743740</td>\n",
       "    </tr>\n",
       "    <tr>\n",
       "      <th>s053</th>\n",
       "      <td>1.782783</td>\n",
       "    </tr>\n",
       "    <tr>\n",
       "      <th>s010</th>\n",
       "      <td>1.782906</td>\n",
       "    </tr>\n",
       "  </tbody>\n",
       "</table>\n",
       "</div>"
      ],
      "text/plain": [
       "         average totaltime\n",
       "subject                   \n",
       "s055              1.477592\n",
       "s013              1.693144\n",
       "s051              1.743740\n",
       "s053              1.782783\n",
       "s010              1.782906"
      ]
     },
     "execution_count": 5,
     "metadata": {},
     "output_type": "execute_result"
    }
   ],
   "source": [
    "# get the total typing time for each repetition\n",
    "totaltimes = df_51.filter(regex='H|UD').sum(axis=1)\n",
    "df = pd.concat([df_51.subject, totaltimes], axis=1)\n",
    "\n",
    "# average the total typing times for each subject (and sort them)\n",
    "df_avg_totaltime = df.groupby('subject').mean().sort_values(0)\n",
    "df_avg_totaltime.columns = [\"average totaltime\"]\n",
    "\n",
    "df_avg_totaltime.iloc[:5]"
   ]
  },
  {
   "cell_type": "code",
   "execution_count": 6,
   "metadata": {},
   "outputs": [],
   "source": [
    "# subject list subset by touch-typing skill\n",
    "touch_subs = df_dem[df_dem.gender == \"Male\"].subject.unique()\n",
    "notouch_subs = df_dem[~(df_dem.gender == \"Male\")].subject.unique()"
   ]
  },
  {
   "cell_type": "code",
   "execution_count": 7,
   "metadata": {},
   "outputs": [],
   "source": [
    "# get the keystroke data for each typist skill subset\n",
    "touch_totaltimes = df_avg_totaltime[df_avg_totaltime.index.isin(touch_subs)]\n",
    "notouch_totaltimes = df_avg_totaltime[df_avg_totaltime.index.isin(notouch_subs)]"
   ]
  },
  {
   "cell_type": "code",
   "execution_count": 8,
   "metadata": {},
   "outputs": [
    {
     "data": {
      "image/png": "[encoded data removed]",
      "text/plain": [
       "<Figure size 1080x720 with 2 Axes>"
      ]
     },
     "metadata": {
      "needs_background": "light"
     },
     "output_type": "display_data"
    }
   ],
   "source": [
    "plot_touching_subplots(touch_totaltimes, notouch_totaltimes, \n",
    "                       suptitle=\"Subjects Sorted By Average Total Typing Time\",\n",
    "                       p1title=\"Touch Typists\", p2title=\"Non-Touch Typists\")"
   ]
  },
  {
   "cell_type": "markdown",
   "metadata": {},
   "source": [
    "It seems that there is a reasonable amount of distinction between the touch typists vs non-touch typists. We will represent this as a graph and then classify the typists' skills via a GCN."
   ]
  },
  {
   "cell_type": "code",
   "execution_count": 9,
   "metadata": {},
   "outputs": [
    {
     "data": {
      "image/png": "[encoded data removed]",
      "text/plain": [
       "<Figure size 432x288 with 1 Axes>"
      ]
     },
     "metadata": {},
     "output_type": "display_data"
    }
   ],
   "source": [
    "# compute euclidean distances pairwise between subjects. \n",
    "# threshold by a half-second to get the adjacency matrix.\n",
    "A = (euclidean_distances(df_avg_totaltime.values) < HALF_SECOND).astype(int)\n",
    "plot_graph_from_adj(A)"
   ]
  },
  {
   "cell_type": "markdown",
   "metadata": {},
   "source": [
    "Given the plots above, this graph structure is, perhaps, unsurprising. We will see if it contains enough information for the network to utilize."
   ]
  },
  {
   "cell_type": "code",
   "execution_count": 10,
   "metadata": {},
   "outputs": [],
   "source": [
    "# generate a graph from the keystroke data\n",
    "G = graph_from_adj(A)\n",
    "\n",
    "# generate an erdos-renyi graph for a baseline comparison\n",
    "G_ER = nx.erdos_renyi_graph(N, P)\n",
    "\n",
    "# split the dataset \n",
    "train, train_labels, test, test_labels = get_train_test(df_51, touch_subs)"
   ]
  },
  {
   "cell_type": "markdown",
   "metadata": {},
   "source": [
    "## GCN with graph derived from the data "
   ]
  },
  {
   "cell_type": "code",
   "execution_count": 11,
   "metadata": {},
   "outputs": [
    {
     "data": {
      "image/png": "[encoded data removed]",
      "text/plain": [
       "<Figure size 1080x720 with 1 Axes>"
      ]
     },
     "metadata": {
      "needs_background": "light"
     },
     "output_type": "display_data"
    },
    {
     "name": "stdout",
     "output_type": "stream",
     "text": [
      "Accuracy: 0.8371\n"
     ]
    }
   ],
   "source": [
    "# load the training data and train the GCN\n",
    "data = load_train_data(G, train, train_labels)\n",
    "model, losses = train_model(data)\n",
    "\n",
    "# convergence status\n",
    "plot_loss(losses)\n",
    "\n",
    "# load the training data and test the GCN\n",
    "data = load_test_data(G, test, test_labels)\n",
    "accuracy = test_model(model, data)\n",
    "\n",
    "print('Accuracy: {:.4f}'.format(accuracy))"
   ]
  },
  {
   "cell_type": "markdown",
   "metadata": {},
   "source": [
    "## GCN with Erdos-Renyi graph"
   ]
  },
  {
   "cell_type": "code",
   "execution_count": 12,
   "metadata": {},
   "outputs": [
    {
     "data": {
      "image/png": "[encoded data removed]",
      "text/plain": [
       "<Figure size 1080x720 with 1 Axes>"
      ]
     },
     "metadata": {
      "needs_background": "light"
     },
     "output_type": "display_data"
    },
    {
     "name": "stdout",
     "output_type": "stream",
     "text": [
      "Accuracy: 0.8410\n"
     ]
    }
   ],
   "source": [
    "# load the training data and train the GCN\n",
    "data = load_train_data(G_ER, train, train_labels)\n",
    "model, losses = train_model(data)\n",
    "\n",
    "# convergence status\n",
    "plot_loss(losses)\n",
    "\n",
    "# load the training data and test the GCN\n",
    "data = load_test_data(G_ER, test, test_labels)\n",
    "accuracy = test_model(model, data)\n",
    "\n",
    "print('Accuracy: {:.4f}'.format(accuracy))"
   ]
  },
  {
   "cell_type": "code",
   "execution_count": 14,
   "metadata": {},
   "outputs": [],
   "source": [
    "# ER better than graph from data... :("
   ]
  },
  {
   "cell_type": "code",
   "execution_count": 64,
   "metadata": {},
   "outputs": [
    {
     "data": {
      "text/plain": [
       "0.7839869281045752"
      ]
     },
     "execution_count": 64,
     "metadata": {},
     "output_type": "execute_result"
    }
   ],
   "source": [
    "train_raw = df_51.sample(frac=0.7) \n",
    "# sample frac 1 used to shuffle, not sample\n",
    "test_raw = df_51[~(df_51.index.isin(train_raw.index))].sample(frac=1)\n",
    "\n",
    "ts = df_51[df_51.subject.isin(df_51.subject.unique()[:25])].subject.unique()\n",
    "\n",
    "X = train_raw.filter(regex=\"H|UD|DD\").values\n",
    "y = train_raw.subject.isin(ts)\n",
    "\n",
    "test = test_raw.filter(regex=\"H|UD|DD\").values\n",
    "test_labels = test_raw.subject.isin(ts)\n",
    "\n",
    "from sklearn import svm\n",
    "clf = svm.SVC(gamma='scale')\n",
    "clf.fit(X, y)\n",
    "out = clf.predict(test)\n",
    "np.sum(test_labels == out)/len(test_labels) # how is this still almost 80%??"
   ]
  },
  {
   "cell_type": "code",
   "execution_count": 100,
   "metadata": {},
   "outputs": [
    {
     "data": {
      "text/plain": [
       "1    0.7\n",
       "dtype: float64"
      ]
     },
     "execution_count": 100,
     "metadata": {},
     "output_type": "execute_result"
    }
   ],
   "source": [
    "ttl = df_dem[df_dem['typingskill'] == 'Touch'].subject.unique()\n",
    "\n",
    "df = pd.concat([df_51.subject, df_51.filter(regex=\"UD\").sum(axis=1)], axis=1)\n",
    "dfn = df.groupby('subject').mean().sort_values(0)\n",
    "dfn.insert(1, 1, dfn.index.isin(ttl))\n",
    "\n",
    "length = 30\n",
    "dfn.iloc[:length, 1:].sum()/len(dfn.iloc[:length, 1:])"
   ]
  },
  {
   "cell_type": "code",
   "execution_count": 102,
   "metadata": {},
   "outputs": [
    {
     "data": {
      "text/plain": [
       "51"
      ]
     },
     "execution_count": 102,
     "metadata": {},
     "output_type": "execute_result"
    }
   ],
   "source": [
    "len(dfn)"
   ]
  },
  {
   "cell_type": "code",
   "execution_count": null,
   "metadata": {},
   "outputs": [],
   "source": []
  }
 ],
 "metadata": {
  "kernelspec": {
   "display_name": "Python 3",
   "language": "python",
   "name": "python3"
  },
  "language_info": {
   "codemirror_mode": {
    "name": "ipython",
    "version": 3
   },
   "file_extension": ".py",
   "mimetype": "text/x-python",
   "name": "python",
   "nbconvert_exporter": "python",
   "pygments_lexer": "ipython3",
   "version": "3.7.1"
  }
 },
 "nbformat": 4,
 "nbformat_minor": 2
}
